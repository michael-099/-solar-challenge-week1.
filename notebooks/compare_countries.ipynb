{
 "cells": [
  {
   "cell_type": "code",
   "execution_count": 33,
   "id": "d9920714",
   "metadata": {},
   "outputs": [],
   "source": [
    "%matplotlib inline"
   ]
  },
  {
   "cell_type": "code",
   "execution_count": 34,
   "id": "bcf0b01d",
   "metadata": {},
   "outputs": [],
   "source": [
    "import pandas as pd \n",
    "import numpy as np\n",
    "import seaborn as sns \n",
    "import matplotlib.pyplot as plt \n"
   ]
  },
  {
   "cell_type": "code",
   "execution_count": 35,
   "id": "a800882f",
   "metadata": {},
   "outputs": [],
   "source": [
    "benin_df = pd.read_csv(\"../cleaned data/cleaned-benin-malanville.csv\")\n",
    "sierraleone_df=pd.read_csv(\"../cleaned data/cleaned-sierraleone-bumbuna.csv\")\n",
    "togo_df = pd.read_csv(\"../cleaned data/cleaned-togo-dapaong_qc.csv\")"
   ]
  },
  {
   "cell_type": "markdown",
   "id": "41ce4d7f",
   "metadata": {},
   "source": [
    "#### Add 'Country' column to each DataFrame"
   ]
  },
  {
   "cell_type": "code",
   "execution_count": 36,
   "id": "e39ad02c",
   "metadata": {},
   "outputs": [],
   "source": [
    "\n",
    "benin_df['Country'] = 'Benin'\n",
    "sierraleone_df['Country'] = 'Sierra Leone'\n",
    "togo_df['Country'] = 'Togo'"
   ]
  },
  {
   "cell_type": "markdown",
   "id": "0c560773",
   "metadata": {},
   "source": [
    "####  Combine the DataFrames"
   ]
  },
  {
   "cell_type": "code",
   "execution_count": 37,
   "id": "8414aa88",
   "metadata": {},
   "outputs": [],
   "source": [
    "combined_df = pd.concat([benin_df, sierraleone_df, togo_df], ignore_index=True)"
   ]
  },
  {
   "cell_type": "markdown",
   "id": "b9520bac",
   "metadata": {},
   "source": [
    "#### Filter out negative or zero values for GHI, DNI, DHI"
   ]
  },
  {
   "cell_type": "code",
   "execution_count": 38,
   "id": "75851593",
   "metadata": {},
   "outputs": [],
   "source": [
    "combined_df = combined_df[(combined_df['GHI'] > 0) & (combined_df['DNI'] > 0) & (combined_df['DHI'] > 0)]"
   ]
  },
  {
   "cell_type": "code",
   "execution_count": 39,
   "id": "84c958f8",
   "metadata": {},
   "outputs": [
    {
     "name": "stdout",
     "output_type": "stream",
     "text": [
      "Summary Table of GHI, DNI, DHI by Country:\n"
     ]
    },
    {
     "data": {
      "application/vnd.microsoft.datawrangler.viewer.v0+json": {
       "columns": [
        {
         "name": "index",
         "rawType": "int64",
         "type": "integer"
        },
        {
         "name": "Country",
         "rawType": "object",
         "type": "string"
        },
        {
         "name": "GHI_mean",
         "rawType": "float64",
         "type": "float"
        },
        {
         "name": "GHI_median",
         "rawType": "float64",
         "type": "float"
        },
        {
         "name": "GHI_std",
         "rawType": "float64",
         "type": "float"
        },
        {
         "name": "DNI_mean",
         "rawType": "float64",
         "type": "float"
        },
        {
         "name": "DNI_median",
         "rawType": "float64",
         "type": "float"
        },
        {
         "name": "DNI_std",
         "rawType": "float64",
         "type": "float"
        },
        {
         "name": "DHI_mean",
         "rawType": "float64",
         "type": "float"
        },
        {
         "name": "DHI_median",
         "rawType": "float64",
         "type": "float"
        },
        {
         "name": "DHI_std",
         "rawType": "float64",
         "type": "float"
        }
       ],
       "ref": "ff003526-1a2b-4917-abe9-3d436e571f19",
       "rows": [
        [
         "0",
         "Benin",
         "515.57",
         "518.9",
         "300.96",
         "364.44",
         "367.5",
         "278.69",
         "244.52",
         "227.7",
         "135.03"
        ],
        [
         "1",
         "Sierra Leone",
         "433.74",
         "398.3",
         "272.02",
         "244.8",
         "165.6",
         "245.62",
         "253.56",
         "247.3",
         "132.77"
        ],
        [
         "2",
         "Togo",
         "523.63",
         "526.9",
         "292.51",
         "357.11",
         "351.7",
         "270.86",
         "252.75",
         "238.9",
         "134.7"
        ]
       ],
       "shape": {
        "columns": 10,
        "rows": 3
       }
      },
      "text/html": [
       "<div>\n",
       "<style scoped>\n",
       "    .dataframe tbody tr th:only-of-type {\n",
       "        vertical-align: middle;\n",
       "    }\n",
       "\n",
       "    .dataframe tbody tr th {\n",
       "        vertical-align: top;\n",
       "    }\n",
       "\n",
       "    .dataframe thead th {\n",
       "        text-align: right;\n",
       "    }\n",
       "</style>\n",
       "<table border=\"1\" class=\"dataframe\">\n",
       "  <thead>\n",
       "    <tr style=\"text-align: right;\">\n",
       "      <th></th>\n",
       "      <th>Country</th>\n",
       "      <th>GHI_mean</th>\n",
       "      <th>GHI_median</th>\n",
       "      <th>GHI_std</th>\n",
       "      <th>DNI_mean</th>\n",
       "      <th>DNI_median</th>\n",
       "      <th>DNI_std</th>\n",
       "      <th>DHI_mean</th>\n",
       "      <th>DHI_median</th>\n",
       "      <th>DHI_std</th>\n",
       "    </tr>\n",
       "  </thead>\n",
       "  <tbody>\n",
       "    <tr>\n",
       "      <th>0</th>\n",
       "      <td>Benin</td>\n",
       "      <td>515.57</td>\n",
       "      <td>518.9</td>\n",
       "      <td>300.96</td>\n",
       "      <td>364.44</td>\n",
       "      <td>367.5</td>\n",
       "      <td>278.69</td>\n",
       "      <td>244.52</td>\n",
       "      <td>227.7</td>\n",
       "      <td>135.03</td>\n",
       "    </tr>\n",
       "    <tr>\n",
       "      <th>1</th>\n",
       "      <td>Sierra Leone</td>\n",
       "      <td>433.74</td>\n",
       "      <td>398.3</td>\n",
       "      <td>272.02</td>\n",
       "      <td>244.80</td>\n",
       "      <td>165.6</td>\n",
       "      <td>245.62</td>\n",
       "      <td>253.56</td>\n",
       "      <td>247.3</td>\n",
       "      <td>132.77</td>\n",
       "    </tr>\n",
       "    <tr>\n",
       "      <th>2</th>\n",
       "      <td>Togo</td>\n",
       "      <td>523.63</td>\n",
       "      <td>526.9</td>\n",
       "      <td>292.51</td>\n",
       "      <td>357.11</td>\n",
       "      <td>351.7</td>\n",
       "      <td>270.86</td>\n",
       "      <td>252.75</td>\n",
       "      <td>238.9</td>\n",
       "      <td>134.70</td>\n",
       "    </tr>\n",
       "  </tbody>\n",
       "</table>\n",
       "</div>"
      ],
      "text/plain": [
       "        Country  GHI_mean  GHI_median  GHI_std  DNI_mean  DNI_median  DNI_std  \\\n",
       "0         Benin    515.57       518.9   300.96    364.44       367.5   278.69   \n",
       "1  Sierra Leone    433.74       398.3   272.02    244.80       165.6   245.62   \n",
       "2          Togo    523.63       526.9   292.51    357.11       351.7   270.86   \n",
       "\n",
       "   DHI_mean  DHI_median  DHI_std  \n",
       "0    244.52       227.7   135.03  \n",
       "1    253.56       247.3   132.77  \n",
       "2    252.75       238.9   134.70  "
      ]
     },
     "metadata": {},
     "output_type": "display_data"
    }
   ],
   "source": [
    "# Compute summary statistics (mean, median, std) for GHI, DNI, DHI by country\n",
    "summary_stats = combined_df.groupby('Country')[['GHI', 'DNI', 'DHI']].agg(['mean', 'median', 'std']).round(2)\n",
    "\n",
    "# Flatten the multi-index columns for better readability\n",
    "summary_stats.columns = ['_'.join(col).strip() for col in summary_stats.columns.values]\n",
    "summary_stats = summary_stats.reset_index()\n",
    "\n",
    "# Display the summary table\n",
    "print(\"Summary Table of GHI, DNI, DHI by Country:\")\n",
    "display(summary_stats)"
   ]
  },
  {
   "cell_type": "code",
   "execution_count": 47,
   "id": "9571dffa",
   "metadata": {},
   "outputs": [
    {
     "name": "stderr",
     "output_type": "stream",
     "text": [
      "C:\\Users\\micha\\AppData\\Local\\Temp\\ipykernel_13400\\2431909306.py:6: FutureWarning: \n",
      "\n",
      "Passing `palette` without assigning `hue` is deprecated and will be removed in v0.14.0. Assign the `x` variable to `hue` and set `legend=False` for the same effect.\n",
      "\n",
      "  sns.boxplot(x='Country', y=metric, data=combined_df, ax=ax, palette='Set2')\n",
      "C:\\Users\\micha\\AppData\\Local\\Temp\\ipykernel_13400\\2431909306.py:6: FutureWarning: \n",
      "\n",
      "Passing `palette` without assigning `hue` is deprecated and will be removed in v0.14.0. Assign the `x` variable to `hue` and set `legend=False` for the same effect.\n",
      "\n",
      "  sns.boxplot(x='Country', y=metric, data=combined_df, ax=ax, palette='Set2')\n",
      "C:\\Users\\micha\\AppData\\Local\\Temp\\ipykernel_13400\\2431909306.py:6: FutureWarning: \n",
      "\n",
      "Passing `palette` without assigning `hue` is deprecated and will be removed in v0.14.0. Assign the `x` variable to `hue` and set `legend=False` for the same effect.\n",
      "\n",
      "  sns.boxplot(x='Country', y=metric, data=combined_df, ax=ax, palette='Set2')\n"
     ]
    },
    {
     "data": {
      "image/png": "[encoded data removed]",
      "text/plain": [
       "<Figure size 1500x500 with 3 Axes>"
      ]
     },
     "metadata": {},
     "output_type": "display_data"
    }
   ],
   "source": [
    "# Plot\n",
    "sns.set(style=\"whitegrid\")\n",
    "fig, axes = plt.subplots(1, 3, figsize=(15, 5))\n",
    "\n",
    "for ax, metric in zip(axes, ['GHI', 'DNI', 'DHI']):\n",
    "    sns.boxplot(x='Country', y=metric, data=combined_df, ax=ax, palette='Set2')\n",
    "    ax.set_title(f'{metric} by Country')\n",
    "    ax.set_ylabel(f'{metric} (W/m²)')\n",
    "\n",
    "plt.tight_layout()\n",
    "plt.show()"
   ]
  }
 ],
 "metadata": {
  "kernelspec": {
   "display_name": "Python (solar_env)",
   "language": "python",
   "name": "solar_env"
  },
  "language_info": {
   "codemirror_mode": {
    "name": "ipython",
    "version": 3
   },
   "file_extension": ".py",
   "mimetype": "text/x-python",
   "name": "python",
   "nbconvert_exporter": "python",
   "pygments_lexer": "ipython3",
   "version": "3.12.7"
  }
 },
 "nbformat": 4,
 "nbformat_minor": 5
}
